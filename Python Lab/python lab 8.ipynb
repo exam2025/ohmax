{
 "cells": [
  {
   "cell_type": "code",
   "execution_count": 3,
   "id": "b82d77ff",
   "metadata": {},
   "outputs": [
    {
     "name": "stdout",
     "output_type": "stream",
     "text": [
      "Enter the string to count occurances and remove: i\n",
      "Number of occurrences: 2\n",
      "Updated text:\n",
      " my name s sandeep  am good\n"
     ]
    }
   ],
   "source": [
    "# WAP that inputs a string from user that find all occurence of a string from a text file and enter a string to be removed\n",
    "\n",
    "filename = 'example.txt'\n",
    "\n",
    "remove_string = input(\"Enter the string to count occurances and remove: \")\n",
    "\n",
    "with open(filename, 'r') as file:\n",
    "    text = file.read()\n",
    "\n",
    "occurrences = text.count(remove_string)\n",
    "\n",
    "print(\"Number of occurrences:\", occurrences)\n",
    "\n",
    "new_text = text.replace(remove_string, \"\")\n",
    "\n",
    "with open(filename, 'w') as file:\n",
    "    file.write(new_text)\n",
    "\n",
    "print(\"Updated text:\\n\", new_text)"
   ]
  },
  {
   "cell_type": "code",
   "execution_count": 4,
   "id": "df0dfcfe",
   "metadata": {},
   "outputs": [
    {
     "name": "stdout",
     "output_type": "stream",
     "text": [
      "Enter the file name: new.txt\n",
      "Enter the string to replace: me\n",
      "Enter the new string: i\n",
      "String replaced successfully\n"
     ]
    }
   ],
   "source": [
    "# WAP that replace a string in a text file with new string from user to enter a file name and old and new string\n",
    "\n",
    "filename = input(\"Enter the file name: \")\n",
    "old_string = input(\"Enter the string to replace: \")\n",
    "new_string = input(\"Enter the new string: \")\n",
    "\n",
    "file = open(filename, 'r')\n",
    "text = file.read()\n",
    "\n",
    "updated_text = text.replace(old_string, new_string)\n",
    "\n",
    "file.close()\n",
    "\n",
    "file = open(filename, 'w')\n",
    "file.write(updated_text)\n",
    "file.close()\n",
    "\n",
    "print(\"String replaced successfully\")\n"
   ]
  },
  {
   "cell_type": "code",
   "execution_count": 5,
   "id": "b4e89126",
   "metadata": {},
   "outputs": [
    {
     "name": "stdout",
     "output_type": "stream",
     "text": [
      "Total marks: 330\n",
      "Average marks: 82.5\n"
     ]
    }
   ],
   "source": [
    "# WAP that reads marks of N students from a file and display their total and average\n",
    "\n",
    "filename = 'marks.txt'\n",
    "\n",
    "file = open(filename, 'r')\n",
    "lines = file.readlines()\n",
    "\n",
    "marks = []\n",
    "total = 0\n",
    "\n",
    "for line in lines:\n",
    "    line = line.strip()\n",
    "    mark = int(line)\n",
    "    marks.append(mark)\n",
    "    total += mark\n",
    "\n",
    "file.close()\n",
    "\n",
    "average = total / len(marks)\n",
    "\n",
    "print(f\"Total marks: {total}\")\n",
    "print(f\"Average marks: {average}\")"
   ]
  },
  {
   "cell_type": "code",
   "execution_count": 12,
   "id": "344894c9",
   "metadata": {},
   "outputs": [
    {
     "name": "stdout",
     "output_type": "stream",
     "text": [
      "Data copied successfully\n",
      "I AM LEARNING DATA SCIENCE\n"
     ]
    }
   ],
   "source": [
    "# WAP to copy data from one file into another file in following manner :-\n",
    "# 1) convert lower into upper case alphabets\n",
    "# 2) convert upper into lower case alphabets\n",
    "# 3) copy all characters as same\n",
    "\n",
    "input_file = 'input.txt'\n",
    "input_filename = open(input_file, 'r')\n",
    "output_file = 'output.txt'\n",
    "output_filename = open(output_file, 'w')\n",
    "\n",
    "data = input_filename.read()\n",
    "\n",
    "converted_data = ''\n",
    "for char in data:\n",
    "    if char.islower():\n",
    "        converted_data += char.upper()\n",
    "    elif char.isupper():\n",
    "        converted_data += char.lower()\n",
    "    else:\n",
    "        converted_data += char\n",
    "\n",
    "output_filename.write(converted_data)\n",
    "\n",
    "input_filename.close()\n",
    "output_filename.close()\n",
    "\n",
    "print(\"Data copied successfully\")\n",
    "\n",
    "file = open(output_file, 'r')\n",
    "\n",
    "contents = file.read()\n",
    "\n",
    "print(contents)\n",
    "\n",
    "file.close()\n"
   ]
  },
  {
   "cell_type": "code",
   "execution_count": 15,
   "id": "e7403690",
   "metadata": {},
   "outputs": [
    {
     "name": "stdout",
     "output_type": "stream",
     "text": [
      "Welcome to Hangman!\n",
      "Guess the word. You have 6 tries.\n",
      "_ _ _ _ _ _ _ _ _ \n",
      "Enter a letter: i\n",
      "Correct guess!\n",
      "_ _ _ _ _ _ i _ _ \n",
      "Enter a letter: m\n",
      "Correct guess!\n",
      "_ _ m _ _ _ i _ _ \n",
      "Enter a letter: c\n",
      "Correct guess!\n",
      "c _ m _ _ _ i _ _ \n",
      "Enter a letter: u\n",
      "Correct guess!\n",
      "c _ m _ u _ i _ _ \n",
      "Enter a letter: g\n",
      "Correct guess!\n",
      "c _ m _ u _ i _ g \n",
      "Enter a letter: o\n",
      "Correct guess!\n",
      "c o m _ u _ i _ g \n",
      "Enter a letter: p\n",
      "Correct guess!\n",
      "c o m p u _ i _ g \n",
      "Enter a letter: t\n",
      "Correct guess!\n",
      "c o m p u t i _ g \n",
      "Enter a letter: n\n",
      "Correct guess!\n",
      "Congratulations! You guessed the word.\n",
      "The word is: computing\n"
     ]
    }
   ],
   "source": [
    "# WAP for hangman to implement the game of hangman the program reads the words stored in a text file\n",
    "# words are deliminated by spaces\n",
    "\n",
    "import random\n",
    "\n",
    "def get_random_word():\n",
    "    with open('words.txt', 'r') as file:\n",
    "        words = file.read().split()\n",
    "    word = random.choice(words)\n",
    "    return word\n",
    "\n",
    "def play_hangman():\n",
    "    word = get_random_word()\n",
    "    guessed_letters = []\n",
    "    tries = 6\n",
    "\n",
    "    print(\"Welcome to Hangman!\")\n",
    "    print(\"Guess the word. You have 6 tries.\")\n",
    "\n",
    "    while tries > 0:\n",
    "        display_word(word, guessed_letters)\n",
    "\n",
    "        guess = input(\"Enter a letter: \").lower()\n",
    "\n",
    "        if len(guess) != 1 or not guess.isalpha():\n",
    "            print(\"Invalid input! Please enter a single letter.\")\n",
    "            continue\n",
    "\n",
    "        if guess in guessed_letters:\n",
    "            print(\"You already guessed that letter. Try again.\")\n",
    "            continue\n",
    "\n",
    "        guessed_letters.append(guess)\n",
    "\n",
    "        if guess not in word:\n",
    "            tries -= 1\n",
    "            print(f\"Wrong guess! You have {tries} tries left.\")\n",
    "        else:\n",
    "            print(\"Correct guess!\")\n",
    "\n",
    "        if is_word_guessed(word, guessed_letters):\n",
    "            print(\"Congratulations! You guessed the word.\")\n",
    "            print(\"The word is:\", word)\n",
    "            return\n",
    "\n",
    "    print(\"You lost! The word was:\", word)\n",
    "\n",
    "def display_word(word, guessed_letters):\n",
    "    for letter in word:\n",
    "        if letter in guessed_letters:\n",
    "            print(letter, end=\" \")\n",
    "        else:\n",
    "            print(\"_\", end=\" \")\n",
    "    print()\n",
    "\n",
    "def is_word_guessed(word, guessed_letters):\n",
    "    for letter in word:\n",
    "        if letter not in guessed_letters:\n",
    "            return False\n",
    "    return True\n",
    "\n",
    "play_hangman()"
   ]
  }
 ],
 "metadata": {
  "kernelspec": {
   "display_name": "Python 3 (ipykernel)",
   "language": "python",
   "name": "python3"
  },
  "language_info": {
   "codemirror_mode": {
    "name": "ipython",
    "version": 3
   },
   "file_extension": ".py",
   "mimetype": "text/x-python",
   "name": "python",
   "nbconvert_exporter": "python",
   "pygments_lexer": "ipython3",
   "version": "3.9.13"
  }
 },
 "nbformat": 4,
 "nbformat_minor": 5
}
